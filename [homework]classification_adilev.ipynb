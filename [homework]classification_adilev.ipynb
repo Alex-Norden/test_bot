{
  "nbformat": 4,
  "nbformat_minor": 0,
  "metadata": {
    "accelerator": "GPU",
    "colab": {
      "name": "[homework]classification_adilev.ipynb",
      "provenance": [],
      "collapsed_sections": []
    },
    "kernelspec": {
      "display_name": "Python 3",
      "language": "python",
      "name": "python3"
    },
    "language_info": {
      "codemirror_mode": {
        "name": "ipython",
        "version": 3
      },
      "file_extension": ".py",
      "mimetype": "text/x-python",
      "name": "python",
      "nbconvert_exporter": "python",
      "pygments_lexer": "ipython3",
      "version": "3.8.3"
    }
  },
  "cells": [
    {
      "cell_type": "markdown",
      "metadata": {
        "id": "Ot3c4fjZwC4T"
      },
      "source": [
        "<img src=\"https://s8.hostingkartinok.com/uploads/images/2018/08/308b49fcfbc619d629fe4604bceb67ac.jpg\" width=500, height=450>\n",
        "<h3 style=\"text-align: center;\"><b>Физтех-Школа Прикладной математики и информатики (ФПМИ) МФТИ</b></h3>"
      ]
    },
    {
      "cell_type": "markdown",
      "metadata": {
        "id": "P2JdzEXmwRU5"
      },
      "source": [
        "---"
      ]
    },
    {
      "cell_type": "markdown",
      "metadata": {
        "id": "TItJgQMp5p4E"
      },
      "source": [
        "# Задание 3\n",
        "\n",
        "## Классификация текстов\n",
        "\n",
        "В этом задании вам предстоит попробовать несколько методов, используемых в задаче классификации, а также понять насколько хорошо модель понимает смысл слов и какие слова в примере влияют на результат."
      ]
    },
    {
      "cell_type": "code",
      "metadata": {
        "id": "4Upe0htBD9ID"
      },
      "source": [
        "# !pip uninstall -y torchtext\r\n",
        "# !pip install torchtext==0.8.1"
      ],
      "execution_count": 1,
      "outputs": []
    },
    {
      "cell_type": "markdown",
      "metadata": {
        "id": "BQDy77-IEpWV"
      },
      "source": [
        "# Импорт"
      ]
    },
    {
      "cell_type": "code",
      "metadata": {
        "id": "1emhHMhniZMu"
      },
      "source": [
        "import pandas as pd\n",
        "import numpy as np\n",
        "import torch\n",
        "\n",
        "from torchtext import datasets\n",
        "\n",
        "from torchtext.data import Field, LabelField\n",
        "from torchtext.data import BucketIterator\n",
        "\n",
        "from torchtext.vocab import Vectors, GloVe\n",
        "\n",
        "import torch.nn as nn\n",
        "import torch.nn.functional as F\n",
        "import torch.optim as optim\n",
        "from sklearn.metrics import f1_score\n",
        "\n",
        "from matplotlib import pyplot as plt\n",
        "%matplotlib inline\n",
        "\n",
        "import random\n",
        "from tqdm.autonotebook import tqdm\n",
        "\n",
        "# мы будем игнорировать warnings\n",
        "import warnings\n",
        "warnings.filterwarnings(action='ignore', category=UserWarning)\n",
        "\n",
        "device = \"cuda\" if torch.cuda.is_available() else \"cpu\""
      ],
      "execution_count": 2,
      "outputs": []
    },
    {
      "cell_type": "markdown",
      "metadata": {
        "id": "XyOlPZA26Ppy"
      },
      "source": [
        "В этом задании мы будем использовать библиотеку torchtext. Она довольна проста в использовании и поможет нам сконцентрироваться на задаче, а не на написании Dataloader-а."
      ]
    },
    {
      "cell_type": "code",
      "metadata": {
        "id": "-VuQ1E10_tX_"
      },
      "source": [
        "TEXT = Field(sequential=True, lower=True, include_lengths=True)  # Поле текста\n",
        "LABEL = LabelField(dtype=torch.float)  # Поле метки"
      ],
      "execution_count": 3,
      "outputs": []
    },
    {
      "cell_type": "code",
      "metadata": {
        "id": "SBK4ipzS122j"
      },
      "source": [
        "SEED = 1234\n",
        "\n",
        "torch.manual_seed(SEED)\n",
        "torch.backends.cudnn.deterministic = True"
      ],
      "execution_count": 4,
      "outputs": []
    },
    {
      "cell_type": "markdown",
      "metadata": {
        "id": "nNWLG7mG6n2d"
      },
      "source": [
        "Датасет на котором мы будем проводить эксперименты это комментарии к фильмам из сайта IMDB."
      ]
    },
    {
      "cell_type": "code",
      "metadata": {
        "id": "mRzUSWeAi6Xq"
      },
      "source": [
        "train, test = datasets.IMDB.splits(TEXT, LABEL)  # загрузим датасет\n",
        "train, valid = train.split(random_state=random.seed(SEED))  # разобъём на части"
      ],
      "execution_count": 5,
      "outputs": []
    },
    {
      "cell_type": "code",
      "metadata": {
        "id": "uQfIRhWPjURL"
      },
      "source": [
        "TEXT.build_vocab(train)\n",
        "LABEL.build_vocab(train)"
      ],
      "execution_count": 6,
      "outputs": []
    },
    {
      "cell_type": "code",
      "metadata": {
        "id": "bSoBkdcj4roR"
      },
      "source": [
        "train_iter, val_iter, test_iter = BucketIterator.splits(\n",
        "    (train, valid, test), \n",
        "    batch_size=64,\n",
        "    sort_within_batch=True,\n",
        "    device=device\n",
        ")"
      ],
      "execution_count": 7,
      "outputs": []
    },
    {
      "cell_type": "code",
      "metadata": {
        "id": "H2PjD0cj4H-D"
      },
      "source": [
        "# функция отрисовки графика обучения\r\n",
        "def plot_trainig(train_losses, val_losses):\r\n",
        "    plt.figure(figsize=(12, 9))\r\n",
        "    plt.subplot(2, 1, 1)\r\n",
        "    plt.xlabel('epoch')\r\n",
        "    plt.plot(train_losses, label='train loss')\r\n",
        "    plt.plot(val_losses, label='val loss')\r\n",
        "    plt.legend()"
      ],
      "execution_count": 8,
      "outputs": []
    },
    {
      "cell_type": "markdown",
      "metadata": {
        "id": "3_CRDES360wG"
      },
      "source": [
        "# RNN\n",
        "\n",
        "Для начала попробуем использовать рекуррентные нейронные сети. На семинаре вы познакомились с GRU, вы можете также попробовать LSTM. Можно использовать для классификации как hidden_state, так и output последнего токена."
      ]
    },
    {
      "cell_type": "code",
      "metadata": {
        "id": "J1yE1KPQqDat"
      },
      "source": [
        "class RNNBaseline(nn.Module):\n",
        "    def __init__(self, vocab_size, embedding_dim, hidden_dim, output_dim, n_layers, \n",
        "                 bidirectional, dropout, pad_idx):\n",
        "        super().__init__()\n",
        "        \n",
        "        self.embedding = nn.Embedding(vocab_size, embedding_dim, padding_idx=pad_idx)\n",
        "        \n",
        "        self.rnn = nn.LSTM(embedding_dim, hidden_dim, n_layers, bidirectional=bidirectional, dropout=dropout)\n",
        "\n",
        "        self.dropout = nn.Dropout(dropout)\n",
        "\n",
        "        self.fc = nn.Linear(hidden_dim*2, output_dim)\n",
        "        \n",
        "    def forward(self, text, text_lengths):\n",
        "        #text = [sent_len, batch_size]\n",
        "        embedded = self.embedding(text)\n",
        "        #embedded = [sent_len, batch_size, emb_dim]\n",
        "\n",
        "        #pack sequence\n",
        "        packed_embedded = nn.utils.rnn.pack_padded_sequence(embedded, text_lengths)\n",
        "        \n",
        "        # cell arg for LSTM, remove for GRU\n",
        "        packed_output, (hidden, cell) = self.rnn(packed_embedded)\n",
        "        #unpack sequence\n",
        "        output, output_lengths = nn.utils.rnn.pad_packed_sequence(packed_output)  \n",
        "\n",
        "        #output = [sent_len, batch_size, hid_dim * num_directions]\n",
        "        #output over padding tokens are zero tensors\n",
        "        \n",
        "        #hidden = [num_layers * num_directions, batch_size, hid_dim]\n",
        "        #cell = [num_layers * num_directions, batch_size, hid_dim]\n",
        "        \n",
        "        #concat the final forward (hidden[-2,:,:]) and backward (hidden[-1,:,:]) hidden layers\n",
        "        #and apply dropout\n",
        "\n",
        "        hidden = self.dropout(torch.cat((hidden[-2,:,:], hidden[-1,:,:]), dim=1))\n",
        "        #hidden = [batch_size, hid_dim * num_directions]    \n",
        "        \n",
        "        return self.fc(hidden).flatten()"
      ],
      "execution_count": 9,
      "outputs": []
    },
    {
      "cell_type": "markdown",
      "metadata": {
        "id": "m1DPXeUM0Q1Z"
      },
      "source": [
        "## Функции обучения и теста"
      ]
    },
    {
      "cell_type": "code",
      "metadata": {
        "id": "5J10ZZyJux1s"
      },
      "source": [
        "def train_rnn(model, optimizer, criterion, dl_train, dl_val, num_epochs, max_grad_norm=2):\r\n",
        "    train_losses, val_losses = [], []\r\n",
        "    n_train = len(dl_train)\r\n",
        "    n_val = len(dl_val)\r\n",
        "    \r\n",
        "    min_loss = np.inf\r\n",
        "    cur_patience = 0\r\n",
        "    for epoch in range(1, num_epochs + 1):\r\n",
        "        train_loss = 0.0\r\n",
        "        model.train() #train mode\r\n",
        "        for batch in dl_train:          \r\n",
        "            x_batch = batch.text[0].to(device)\r\n",
        "            y_batch = batch.label.to(device)\r\n",
        "\r\n",
        "            optimizer.zero_grad()\r\n",
        "\r\n",
        "            outputs = model(x_batch, text_lengths=batch.text[1].cpu())\r\n",
        "            loss = criterion(outputs, y_batch)\r\n",
        "            loss.backward()\r\n",
        "            train_loss += loss.item()\r\n",
        "\r\n",
        "            torch.nn.utils.clip_grad_norm_(model.parameters(), max_grad_norm)\r\n",
        "\r\n",
        "            optimizer.step()\r\n",
        "\r\n",
        "        train_loss /= n_train\r\n",
        "\r\n",
        "        val_loss = 0.0\r\n",
        "        model.eval() #val mode\r\n",
        "        with torch.no_grad():\r\n",
        "            for batch in dl_val:\r\n",
        "                x_batch = batch.text[0].to(device)\r\n",
        "                y_batch = batch.label.to(device)\r\n",
        "\r\n",
        "                outputs = model(x_batch, text_lengths=batch.text[1].cpu())\r\n",
        "                loss = criterion(outputs, y_batch)\r\n",
        "                val_loss += loss.item()\r\n",
        "\r\n",
        "        val_loss /= n_val\r\n",
        "        print('Epoch: {}, Train Loss: {:.4f}, Val Loss: {:.4f}'.format(epoch, train_loss, val_loss))\r\n",
        "        train_losses.append(train_loss)\r\n",
        "        val_losses.append(val_loss)\r\n",
        "        \r\n",
        "        if val_loss < min_loss:\r\n",
        "            min_loss = val_loss\r\n",
        "            best_model = model.state_dict()\r\n",
        "            cur_patience = 0\r\n",
        "        else:\r\n",
        "            cur_patience += 1\r\n",
        "            if cur_patience == 3:\r\n",
        "                print(\"stopped\")\r\n",
        "                break\r\n",
        "   \r\n",
        "    model.load_state_dict(best_model)\r\n",
        "    return train_losses, val_losses\r\n",
        "\r\n",
        "def test_rnn(model, criterion, dl_test):\r\n",
        "    n_test = len(dl_test)\r\n",
        "    test_loss = 0.0\r\n",
        "    true_list, pred_list = [], []\r\n",
        "\r\n",
        "    model.eval() #val mode\r\n",
        "    with torch.no_grad():\r\n",
        "        for batch in dl_test:\r\n",
        "            x_batch = batch.text[0].to(device)\r\n",
        "            y_batch = batch.label.to(device)\r\n",
        "\r\n",
        "            outputs = model(x_batch, text_lengths=batch.text[1].cpu())\r\n",
        "            loss = criterion(outputs, y_batch)\r\n",
        "            test_loss += loss.item()\r\n",
        "\r\n",
        "            outputs = outputs.detach()\r\n",
        "            probs = torch.sigmoid(outputs)\r\n",
        "            preds = (probs > 0.5).type(torch.long).cpu()\r\n",
        "\r\n",
        "            true_list.append(y_batch.detach().cpu())\r\n",
        "            pred_list.append(preds)\r\n",
        "\r\n",
        "    y_true = torch.cat(true_list, dim=0)\r\n",
        "    y_pred = torch.cat(pred_list, dim=0)\r\n",
        "\r\n",
        "    test_loss /= n_test\r\n",
        "    test_score = f1_score(y_true, y_pred)\r\n",
        "    print('Test Loss: {:.4f}, Test Score: {:.4f}'.format(test_loss, test_score))"
      ],
      "execution_count": 10,
      "outputs": []
    },
    {
      "cell_type": "markdown",
      "metadata": {
        "id": "hm1ovpW-u2LR"
      },
      "source": [
        "## Обучение"
      ]
    },
    {
      "cell_type": "code",
      "metadata": {
        "id": "mIiM_ZBt9_91"
      },
      "source": [
        "model = RNNBaseline(vocab_size=len(TEXT.vocab),\n",
        "                    embedding_dim=100,\n",
        "                    hidden_dim=256,\n",
        "                    output_dim=1,\n",
        "                    n_layers=2,\n",
        "                    bidirectional=True,\n",
        "                    dropout=0.2,\n",
        "                    pad_idx=TEXT.vocab.stoi[TEXT.pad_token]\n",
        "        ).to(device)"
      ],
      "execution_count": 11,
      "outputs": []
    },
    {
      "cell_type": "code",
      "metadata": {
        "id": "olAS-mVI-VfT",
        "colab": {
          "base_uri": "https://localhost:8080/",
          "height": 437
        },
        "outputId": "fc25c195-ec51-4858-d919-bba02e2d5ac6"
      },
      "source": [
        "opt = torch.optim.Adam(model.parameters(), lr=3e-4)\n",
        "criterion = nn.BCEWithLogitsLoss()\n",
        "\n",
        "history = train_rnn(model, opt, criterion, train_iter, val_iter, num_epochs=20)\n",
        "plot_trainig(*history)"
      ],
      "execution_count": 12,
      "outputs": [
        {
          "output_type": "stream",
          "text": [
            "Epoch: 1, Train Loss: 0.6361, Val Loss: 0.5630\n",
            "Epoch: 2, Train Loss: 0.5265, Val Loss: 0.5301\n",
            "Epoch: 3, Train Loss: 0.4214, Val Loss: 0.5109\n",
            "Epoch: 4, Train Loss: 0.3370, Val Loss: 0.4719\n",
            "Epoch: 5, Train Loss: 0.2756, Val Loss: 0.4467\n",
            "Epoch: 6, Train Loss: 0.2138, Val Loss: 0.5328\n",
            "Epoch: 7, Train Loss: 0.1691, Val Loss: 0.5508\n",
            "Epoch: 8, Train Loss: 0.1294, Val Loss: 0.6060\n",
            "stopped\n"
          ],
          "name": "stdout"
        },
        {
          "output_type": "display_data",
          "data": {
            "image/png": "[encoded data removed]",
            "text/plain": [
              "<Figure size 864x648 with 1 Axes>"
            ]
          },
          "metadata": {
            "tags": [],
            "needs_background": "light"
          }
        }
      ]
    },
    {
      "cell_type": "markdown",
      "metadata": {
        "id": "y4i-Go_ICT_U"
      },
      "source": [
        "Посчитайте f1-score вашего классификатора на тестовом датасете.\n",
        "\n",
        "**Ответ**:"
      ]
    },
    {
      "cell_type": "code",
      "metadata": {
        "id": "gWkbCpNECflR",
        "colab": {
          "base_uri": "https://localhost:8080/",
          "height": 0
        },
        "outputId": "94d7170a-deac-442f-935d-a8aa0be5a3bc"
      },
      "source": [
        "test_rnn(model, criterion, test_iter)"
      ],
      "execution_count": 13,
      "outputs": [
        {
          "output_type": "stream",
          "text": [
            "Test Loss: 0.5971, Test Score: 0.8022\n"
          ],
          "name": "stdout"
        }
      ]
    },
    {
      "cell_type": "markdown",
      "metadata": {
        "id": "kzDqc3__JIMe"
      },
      "source": [
        "# CNN\n",
        "\n",
        "![](https://www.researchgate.net/publication/333752473/figure/fig1/AS:769346934673412@1560438011375/Standard-CNN-on-text-classification.png)\n",
        "\n",
        "Для классификации текстов также часто используют сверточные нейронные сети. Идея в том, что как правило сентимент содержат словосочетания из двух-трех слов, например \"очень хороший фильм\" или \"невероятная скука\". Проходясь сверткой по этим словам мы получим какой-то большой скор и выхватим его с помощью MaxPool. Далее идет обычная полносвязная сетка. Важный момент: свертки применяются не последовательно, а параллельно. Давайте попробуем!"
      ]
    },
    {
      "cell_type": "code",
      "metadata": {
        "id": "rU-76tNI-STt"
      },
      "source": [
        "TEXT = Field(sequential=True, lower=True, batch_first=True)  # batch_first т.к. мы используем conv  \n",
        "LABEL = LabelField(batch_first=True, dtype=torch.float)\n",
        "\n",
        "train, tst = datasets.IMDB.splits(TEXT, LABEL)\n",
        "trn, vld = train.split(random_state=random.seed(SEED))\n",
        "\n",
        "TEXT.build_vocab(trn)\n",
        "LABEL.build_vocab(trn)"
      ],
      "execution_count": 14,
      "outputs": []
    },
    {
      "cell_type": "code",
      "metadata": {
        "id": "RQpS9KKUJQVH"
      },
      "source": [
        "train_iter, val_iter, test_iter = BucketIterator.splits(\n",
        "        (trn, vld, tst),\n",
        "        batch_sizes=(128, 256, 256),\n",
        "        sort=False,\n",
        "        sort_key=lambda x: len(x.src),\n",
        "        sort_within_batch=False,\n",
        "        device=device,\n",
        "        repeat=False\n",
        ")"
      ],
      "execution_count": 15,
      "outputs": []
    },
    {
      "cell_type": "markdown",
      "metadata": {
        "id": "asgbwMePPNNl"
      },
      "source": [
        "Вы можете использовать Conv2d с `in_channels=1, kernel_size=(kernel_sizes[0], emb_dim))` или Conv1d c `in_channels=emb_dim, kernel_size=kernel_size[0]`. Но хорошенько подумайте над shape в обоих случаях."
      ]
    },
    {
      "cell_type": "code",
      "metadata": {
        "id": "qPP_-0E-JYTQ"
      },
      "source": [
        "class CNN(nn.Module):\n",
        "    def __init__(self, vocab_size, emb_dim, out_channels, kernel_sizes, dropout, pad_idx):\n",
        "        super().__init__()\n",
        "        \n",
        "        self.embedding = nn.Embedding(vocab_size, emb_dim, padding_idx=pad_idx)\n",
        "\n",
        "        self.conv_0 = nn.Sequential(\n",
        "            nn.Conv1d(emb_dim, out_channels, kernel_sizes[0]),\n",
        "            nn.ReLU()\n",
        "        )\n",
        "        self.conv_1 = nn.Sequential(\n",
        "            nn.Conv1d(emb_dim, out_channels, kernel_sizes[1]),\n",
        "            nn.ReLU()\n",
        "        )\n",
        "        self.conv_2 = nn.Sequential(\n",
        "            nn.Conv1d(emb_dim, out_channels, kernel_sizes[2]),\n",
        "            nn.ReLU()\n",
        "        )\n",
        "\n",
        "        self.dropout = nn.Dropout(dropout)\n",
        "        self.fc = nn.Linear(len(kernel_sizes) * out_channels, 1)\n",
        "        \n",
        "    def forward(self, text):\n",
        "        embedded = self.embedding(text)\n",
        "        embedded = embedded.permute(0, 2, 1)\n",
        "        \n",
        "        conved_0 = self.conv_0(embedded)\n",
        "        conved_1 = self.conv_1(embedded)\n",
        "        conved_2 = self.conv_2(embedded)\n",
        "        \n",
        "        pooled_0 = F.max_pool1d(conved_0, conved_0.shape[2]).squeeze(2)\n",
        "        pooled_1 = F.max_pool1d(conved_1, conved_1.shape[2]).squeeze(2)\n",
        "        pooled_2 = F.max_pool1d(conved_2, conved_2.shape[2]).squeeze(2)\n",
        "\n",
        "        cat = self.dropout(torch.cat((pooled_0, pooled_1, pooled_2), dim=1))\n",
        "            \n",
        "        return self.fc(cat).flatten()"
      ],
      "execution_count": 16,
      "outputs": []
    },
    {
      "cell_type": "markdown",
      "metadata": {
        "id": "LndQVSLg0e6h"
      },
      "source": [
        "## Функции обучения и теста"
      ]
    },
    {
      "cell_type": "code",
      "metadata": {
        "id": "CryAKZJ0zddN"
      },
      "source": [
        "def train_cnn(model, optimizer, criterion, dl_train, dl_val, num_epochs, max_grad_norm=2):\r\n",
        "    train_losses, val_losses = [], []\r\n",
        "    n_train = len(dl_train)\r\n",
        "    n_val = len(dl_val)\r\n",
        "    \r\n",
        "    min_loss = np.inf\r\n",
        "    cur_patience = 0\r\n",
        "    for epoch in range(1, num_epochs + 1):\r\n",
        "        train_loss = 0.0\r\n",
        "        model.train() #train mode\r\n",
        "        for batch in dl_train:          \r\n",
        "            x_batch = batch.text.to(device)\r\n",
        "            y_batch = batch.label.to(device)\r\n",
        "\r\n",
        "            optimizer.zero_grad()\r\n",
        "\r\n",
        "            outputs = model(x_batch)\r\n",
        "            loss = criterion(outputs, y_batch)\r\n",
        "            loss.backward()\r\n",
        "            train_loss += loss.item()\r\n",
        "            \r\n",
        "            torch.nn.utils.clip_grad_norm_(model.parameters(), max_grad_norm)\r\n",
        "\r\n",
        "            optimizer.step()\r\n",
        "\r\n",
        "        train_loss /= n_train\r\n",
        "\r\n",
        "        val_loss = 0.0\r\n",
        "        model.eval() #val mode\r\n",
        "        with torch.no_grad():\r\n",
        "            for batch in dl_val:\r\n",
        "                x_batch = batch.text.to(device)\r\n",
        "                y_batch = batch.label.to(device)\r\n",
        "\r\n",
        "                outputs = model(x_batch)\r\n",
        "                loss = criterion(outputs, y_batch)\r\n",
        "                val_loss += loss.item()\r\n",
        "\r\n",
        "        val_loss /= n_val\r\n",
        "        print('Epoch: {}, Train Loss: {:.4f}, Val Loss: {:.4f}'.format(epoch, train_loss, val_loss))\r\n",
        "        train_losses.append(train_loss)\r\n",
        "        val_losses.append(val_loss)\r\n",
        "\r\n",
        "        if val_loss < min_loss:\r\n",
        "            min_loss = val_loss\r\n",
        "            best_model = model.state_dict()\r\n",
        "            cur_patience = 0\r\n",
        "        else:\r\n",
        "            cur_patience += 1\r\n",
        "            if cur_patience == 3:\r\n",
        "                print(\"stopped\")\r\n",
        "                break\r\n",
        "   \r\n",
        "    model.load_state_dict(best_model)\r\n",
        "    return train_losses, val_losses\r\n",
        "\r\n",
        "def test_cnn(model, criterion, dl_test):\r\n",
        "    n_test = len(dl_test)\r\n",
        "    test_loss = 0.0\r\n",
        "    true_list, pred_list = [], []\r\n",
        "\r\n",
        "    model.eval() #val mode\r\n",
        "    with torch.no_grad():\r\n",
        "        for batch in dl_test:\r\n",
        "            x_batch = batch.text.to(device)\r\n",
        "            y_batch = batch.label.to(device)\r\n",
        "\r\n",
        "            outputs = model(x_batch)\r\n",
        "            loss = criterion(outputs, y_batch)\r\n",
        "            test_loss += loss.item()\r\n",
        "\r\n",
        "            outputs = outputs.detach()\r\n",
        "            probs = torch.sigmoid(outputs)\r\n",
        "            preds = (probs > 0.5).type(torch.long).cpu()\r\n",
        "\r\n",
        "            true_list.append(y_batch.detach().cpu())\r\n",
        "            pred_list.append(preds)\r\n",
        "\r\n",
        "    y_true = torch.cat(true_list, dim=0)\r\n",
        "    y_pred = torch.cat(pred_list, dim=0)\r\n",
        "\r\n",
        "    test_loss /= n_test\r\n",
        "    test_score = f1_score(y_true, y_pred)\r\n",
        "    print('Test Loss: {:.4f}, Test Score: {:.4f}'.format(test_loss, test_score))"
      ],
      "execution_count": 17,
      "outputs": []
    },
    {
      "cell_type": "markdown",
      "metadata": {
        "id": "7JVyhL3Pzfkj"
      },
      "source": [
        "## Обучение"
      ]
    },
    {
      "cell_type": "code",
      "metadata": {
        "id": "Y-U_2T5oKNed"
      },
      "source": [
        "model = CNN(vocab_size=len(TEXT.vocab),\n",
        "            emb_dim=300,\n",
        "            out_channels=100,\n",
        "            kernel_sizes=(3, 4, 5),\n",
        "            dropout=0.5,\n",
        "            pad_idx=TEXT.vocab.stoi[TEXT.pad_token]\n",
        "        ).to(device)"
      ],
      "execution_count": 18,
      "outputs": []
    },
    {
      "cell_type": "code",
      "metadata": {
        "id": "mExblVtPKRw4",
        "colab": {
          "base_uri": "https://localhost:8080/",
          "height": 590
        },
        "outputId": "dc75aac6-050a-4a0e-ce10-d46b3f5be4a4"
      },
      "source": [
        "opt = torch.optim.Adam(model.parameters(), lr=3e-4)\n",
        "criterion = nn.BCEWithLogitsLoss()\n",
        "\n",
        "history = train_cnn(model, opt, criterion, train_iter, val_iter, num_epochs=30)\n",
        "plot_trainig(*history)"
      ],
      "execution_count": 19,
      "outputs": [
        {
          "output_type": "stream",
          "text": [
            "Epoch: 1, Train Loss: 0.7000, Val Loss: 0.5404\n",
            "Epoch: 2, Train Loss: 0.5508, Val Loss: 0.4762\n",
            "Epoch: 3, Train Loss: 0.4851, Val Loss: 0.4412\n",
            "Epoch: 4, Train Loss: 0.4366, Val Loss: 0.4205\n",
            "Epoch: 5, Train Loss: 0.3977, Val Loss: 0.4010\n",
            "Epoch: 6, Train Loss: 0.3654, Val Loss: 0.3841\n",
            "Epoch: 7, Train Loss: 0.3370, Val Loss: 0.3721\n",
            "Epoch: 8, Train Loss: 0.3005, Val Loss: 0.3681\n",
            "Epoch: 9, Train Loss: 0.2769, Val Loss: 0.3534\n",
            "Epoch: 10, Train Loss: 0.2591, Val Loss: 0.3466\n",
            "Epoch: 11, Train Loss: 0.2361, Val Loss: 0.3407\n",
            "Epoch: 12, Train Loss: 0.2215, Val Loss: 0.3371\n",
            "Epoch: 13, Train Loss: 0.1954, Val Loss: 0.3373\n",
            "Epoch: 14, Train Loss: 0.1737, Val Loss: 0.3337\n",
            "Epoch: 15, Train Loss: 0.1614, Val Loss: 0.3409\n",
            "Epoch: 16, Train Loss: 0.1467, Val Loss: 0.3357\n",
            "Epoch: 17, Train Loss: 0.1309, Val Loss: 0.3410\n",
            "stopped\n"
          ],
          "name": "stdout"
        },
        {
          "output_type": "display_data",
          "data": {
            "image/png": "[encoded data removed]",
            "text/plain": [
              "<Figure size 864x648 with 1 Axes>"
            ]
          },
          "metadata": {
            "tags": [],
            "needs_background": "light"
          }
        }
      ]
    },
    {
      "cell_type": "markdown",
      "metadata": {
        "id": "1UVCacK0EhPR"
      },
      "source": [
        "Посчитайте f1-score вашего классификатора.\n",
        "\n",
        "**Ответ**:"
      ]
    },
    {
      "cell_type": "code",
      "metadata": {
        "colab": {
          "base_uri": "https://localhost:8080/",
          "height": 0
        },
        "id": "4KqXZB8VDDWP",
        "outputId": "a7be2b1d-e524-4e70-9035-3dfe1c5ab31b"
      },
      "source": [
        "test_cnn(model, criterion, test_iter)"
      ],
      "execution_count": 20,
      "outputs": [
        {
          "output_type": "stream",
          "text": [
            "Test Loss: 0.3421, Test Score: 0.8609\n"
          ],
          "name": "stdout"
        }
      ]
    },
    {
      "cell_type": "markdown",
      "metadata": {
        "id": "7VspGMN0ESiS"
      },
      "source": [
        "# Интерпретируемость\n",
        "\n",
        "Посмотрим, куда смотрит наша модель. Достаточно запустить код ниже."
      ]
    },
    {
      "cell_type": "code",
      "metadata": {
        "id": "ye2SvjXrPgJh"
      },
      "source": [
        "!pip install -q captum"
      ],
      "execution_count": 21,
      "outputs": []
    },
    {
      "cell_type": "code",
      "metadata": {
        "id": "6e5XPKSZO6DY"
      },
      "source": [
        "from captum.attr import LayerIntegratedGradients, TokenReferenceBase, visualization\n",
        "\n",
        "PAD_IND = TEXT.vocab.stoi['pad']\n",
        "\n",
        "token_reference = TokenReferenceBase(reference_token_idx=PAD_IND)\n",
        "lig = LayerIntegratedGradients(model, model.embedding)"
      ],
      "execution_count": 22,
      "outputs": []
    },
    {
      "cell_type": "code",
      "metadata": {
        "id": "DvqWhd-fPe9e"
      },
      "source": [
        "def forward_with_softmax(inp):\n",
        "    logits = model(inp)\n",
        "    return torch.softmax(logits, 0)[0][1]\n",
        "\n",
        "def forward_with_sigmoid(input):\n",
        "    return torch.sigmoid(model(input))\n",
        "\n",
        "# accumalate couple samples in this array for visualization purposes\n",
        "vis_data_records_ig = []\n",
        "\n",
        "def interpret_sentence(model, sentence, min_len=7, label=0):\n",
        "    print(sentence)\n",
        "    model.eval()\n",
        "    text = [tok for tok in TEXT.tokenize(sentence)]\n",
        "    if len(text) < min_len:\n",
        "        text += ['pad'] * (min_len - len(text))\n",
        "    indexed = [TEXT.vocab.stoi[t] for t in text]\n",
        "\n",
        "    model.zero_grad()\n",
        "\n",
        "    input_indices = torch.tensor(indexed, device=device)\n",
        "    input_indices = input_indices.unsqueeze(0)\n",
        "    \n",
        "    # input_indices dim: [sequence_length]\n",
        "    seq_length = min_len\n",
        "\n",
        "    # predict\n",
        "    pred = forward_with_sigmoid(input_indices).item()\n",
        "    pred_ind = round(pred)\n",
        "\n",
        "    # generate reference indices for each sample\n",
        "    reference_indices = token_reference.generate_reference(seq_length, device=device).unsqueeze(0)\n",
        "\n",
        "    # compute attributions and approximation delta using layer integrated gradients\n",
        "    attributions_ig, delta = lig.attribute(input_indices, reference_indices, n_steps=5000, return_convergence_delta=True)\n",
        "    print('pred: {} ({:.2f}), delta: {}\\n'.format(LABEL.vocab.itos[pred_ind], pred, abs(delta.item())))\n",
        "\n",
        "    add_attributions_to_visualizer(attributions_ig, text, pred, pred_ind, label, delta, vis_data_records_ig)\n",
        "    \n",
        "def add_attributions_to_visualizer(attributions, text, pred, pred_ind, label, delta, vis_data_records):\n",
        "    attributions = attributions.sum(dim=2).squeeze(0)\n",
        "    attributions = attributions / torch.norm(attributions)\n",
        "    attributions = attributions.cpu().detach().numpy()\n",
        "\n",
        "    # storing couple samples in an array for visualization purposes\n",
        "    vis_data_records.append(visualization.VisualizationDataRecord(\n",
        "                                attributions,\n",
        "                                pred,\n",
        "                                LABEL.vocab.itos[pred_ind],\n",
        "                                LABEL.vocab.itos[label],\n",
        "                                LABEL.vocab.itos[1],\n",
        "                                attributions.sum(),       \n",
        "                                text,\n",
        "                                delta))"
      ],
      "execution_count": 23,
      "outputs": []
    },
    {
      "cell_type": "code",
      "metadata": {
        "colab": {
          "base_uri": "https://localhost:8080/",
          "height": 0
        },
        "id": "VtYy633vS8Me",
        "outputId": "26ddb30d-7b97-468b-c1f1-a53466f224fb"
      },
      "source": [
        "interpret_sentence(model, 'It was a fantastic performance !', label=1)\n",
        "interpret_sentence(model, 'Best film ever', label=1)\n",
        "interpret_sentence(model, 'Such a great show!', label=1)\n",
        "interpret_sentence(model, 'It was a horrible movie', label=0)\n",
        "interpret_sentence(model, 'I\\'ve never watched something as bad', label=0)\n",
        "interpret_sentence(model, 'It is a disgusting movie!', label=0)"
      ],
      "execution_count": 24,
      "outputs": [
        {
          "output_type": "stream",
          "text": [
            "It was a fantastic performance !\n",
            "pred: pos (0.98), delta: 1.8878637703778622e-05\n",
            "\n",
            "Best film ever\n",
            "pred: pos (0.73), delta: 3.465993768891895e-05\n",
            "\n",
            "Such a great show!\n",
            "pred: pos (1.00), delta: 1.7818738227148856e-05\n",
            "\n",
            "It was a horrible movie\n",
            "pred: neg (0.40), delta: 2.253416005437714e-05\n",
            "\n",
            "I've never watched something as bad\n",
            "pred: neg (0.10), delta: 1.33384162026573e-05\n",
            "\n",
            "It is a disgusting movie!\n",
            "pred: pos (0.91), delta: 2.3077565078910567e-06\n",
            "\n"
          ],
          "name": "stdout"
        }
      ]
    },
    {
      "cell_type": "markdown",
      "metadata": {
        "id": "aqIRSCWlRTOe"
      },
      "source": [
        "Попробуем ещё"
      ]
    },
    {
      "cell_type": "code",
      "metadata": {
        "colab": {
          "base_uri": "https://localhost:8080/",
          "height": 0
        },
        "id": "a3DSCwAJpkaZ",
        "outputId": "c9615c1a-5f60-4ae7-8879-e7e48ab2b6a6"
      },
      "source": [
        "interpret_sentence(model, 'This is How Movies Should Be Made', label=1)\r\n",
        "interpret_sentence(model, 'I feel terrible', label=0)\r\n",
        "interpret_sentence(model, 'Trash', label=0)\r\n",
        "interpret_sentence(model, 'The greatest mob film still today', label=1)"
      ],
      "execution_count": 25,
      "outputs": [
        {
          "output_type": "stream",
          "text": [
            "This is How Movies Should Be Made\n",
            "pred: pos (0.99), delta: 0.00011792183467207451\n",
            "\n",
            "I feel terrible\n",
            "pred: neg (0.20), delta: 1.3538084607134238e-05\n",
            "\n",
            "Trash\n",
            "pred: pos (0.91), delta: 1.1943108166212468e-05\n",
            "\n",
            "The greatest mob film still today\n",
            "pred: pos (0.91), delta: 1.1003498387340827e-05\n",
            "\n"
          ],
          "name": "stdout"
        }
      ]
    },
    {
      "cell_type": "code",
      "metadata": {
        "colab": {
          "base_uri": "https://localhost:8080/",
          "height": 385
        },
        "id": "4URAkcWXTGBi",
        "outputId": "a1c720ce-4127-4a9f-8a1a-0a56e1861539"
      },
      "source": [
        "print('Visualize attributions based on Integrated Gradients')\n",
        "_ = visualization.visualize_text(vis_data_records_ig)"
      ],
      "execution_count": 26,
      "outputs": [
        {
          "output_type": "stream",
          "text": [
            "Visualize attributions based on Integrated Gradients\n"
          ],
          "name": "stdout"
        },
        {
          "output_type": "display_data",
          "data": {
            "text/html": [
              "<table width: 100%><div style=\"border-top: 1px solid; margin-top: 5px;             padding-top: 5px; display: inline-block\"><b>Legend: </b><span style=\"display: inline-block; width: 10px; height: 10px;                 border: 1px solid; background-color:                 hsl(0, 75%, 60%)\"></span> Negative  <span style=\"display: inline-block; width: 10px; height: 10px;                 border: 1px solid; background-color:                 hsl(0, 75%, 100%)\"></span> Neutral  <span style=\"display: inline-block; width: 10px; height: 10px;                 border: 1px solid; background-color:                 hsl(120, 75%, 50%)\"></span> Positive  </div><tr><th>True Label</th><th>Predicted Label</th><th>Attribution Label</th><th>Attribution Score</th><th>Word Importance</th><tr><td><text style=\"padding-right:2em\"><b>pos</b></text></td><td><text style=\"padding-right:2em\"><b>pos (0.98)</b></text></td><td><text style=\"padding-right:2em\"><b>pos</b></text></td><td><text style=\"padding-right:2em\"><b>0.78</b></text></td><td><mark style=\"background-color: hsl(120, 75%, 98%); opacity:1.0;                     line-height:1.75\"><font color=\"black\"> It                    </font></mark><mark style=\"background-color: hsl(0, 75%, 87%); opacity:1.0;                     line-height:1.75\"><font color=\"black\"> was                    </font></mark><mark style=\"background-color: hsl(0, 75%, 94%); opacity:1.0;                     line-height:1.75\"><font color=\"black\"> a                    </font></mark><mark style=\"background-color: hsl(120, 75%, 80%); opacity:1.0;                     line-height:1.75\"><font color=\"black\"> fantastic                    </font></mark><mark style=\"background-color: hsl(120, 75%, 59%); opacity:1.0;                     line-height:1.75\"><font color=\"black\"> performance                    </font></mark><mark style=\"background-color: hsl(0, 75%, 100%); opacity:1.0;                     line-height:1.75\"><font color=\"black\"> !                    </font></mark><mark style=\"background-color: hsl(0, 75%, 100%); opacity:1.0;                     line-height:1.75\"><font color=\"black\"> pad                    </font></mark></td><tr><tr><td><text style=\"padding-right:2em\"><b>pos</b></text></td><td><text style=\"padding-right:2em\"><b>pos (0.73)</b></text></td><td><text style=\"padding-right:2em\"><b>pos</b></text></td><td><text style=\"padding-right:2em\"><b>-0.64</b></text></td><td><mark style=\"background-color: hsl(120, 75%, 97%); opacity:1.0;                     line-height:1.75\"><font color=\"black\"> Best                    </font></mark><mark style=\"background-color: hsl(120, 75%, 87%); opacity:1.0;                     line-height:1.75\"><font color=\"black\"> film                    </font></mark><mark style=\"background-color: hsl(0, 75%, 62%); opacity:1.0;                     line-height:1.75\"><font color=\"black\"> ever                    </font></mark><mark style=\"background-color: hsl(0, 75%, 100%); opacity:1.0;                     line-height:1.75\"><font color=\"black\"> pad                    </font></mark><mark style=\"background-color: hsl(0, 75%, 100%); opacity:1.0;                     line-height:1.75\"><font color=\"black\"> pad                    </font></mark><mark style=\"background-color: hsl(0, 75%, 100%); opacity:1.0;                     line-height:1.75\"><font color=\"black\"> pad                    </font></mark><mark style=\"background-color: hsl(0, 75%, 100%); opacity:1.0;                     line-height:1.75\"><font color=\"black\"> pad                    </font></mark></td><tr><tr><td><text style=\"padding-right:2em\"><b>pos</b></text></td><td><text style=\"padding-right:2em\"><b>pos (1.00)</b></text></td><td><text style=\"padding-right:2em\"><b>pos</b></text></td><td><text style=\"padding-right:2em\"><b>0.80</b></text></td><td><mark style=\"background-color: hsl(120, 75%, 97%); opacity:1.0;                     line-height:1.75\"><font color=\"black\"> Such                    </font></mark><mark style=\"background-color: hsl(0, 75%, 93%); opacity:1.0;                     line-height:1.75\"><font color=\"black\"> a                    </font></mark><mark style=\"background-color: hsl(120, 75%, 52%); opacity:1.0;                     line-height:1.75\"><font color=\"black\"> great                    </font></mark><mark style=\"background-color: hsl(0, 75%, 98%); opacity:1.0;                     line-height:1.75\"><font color=\"black\"> show!                    </font></mark><mark style=\"background-color: hsl(0, 75%, 100%); opacity:1.0;                     line-height:1.75\"><font color=\"black\"> pad                    </font></mark><mark style=\"background-color: hsl(0, 75%, 100%); opacity:1.0;                     line-height:1.75\"><font color=\"black\"> pad                    </font></mark><mark style=\"background-color: hsl(0, 75%, 100%); opacity:1.0;                     line-height:1.75\"><font color=\"black\"> pad                    </font></mark></td><tr><tr><td><text style=\"padding-right:2em\"><b>neg</b></text></td><td><text style=\"padding-right:2em\"><b>neg (0.40)</b></text></td><td><text style=\"padding-right:2em\"><b>pos</b></text></td><td><text style=\"padding-right:2em\"><b>-0.85</b></text></td><td><mark style=\"background-color: hsl(120, 75%, 100%); opacity:1.0;                     line-height:1.75\"><font color=\"black\"> It                    </font></mark><mark style=\"background-color: hsl(0, 75%, 95%); opacity:1.0;                     line-height:1.75\"><font color=\"black\"> was                    </font></mark><mark style=\"background-color: hsl(120, 75%, 98%); opacity:1.0;                     line-height:1.75\"><font color=\"black\"> a                    </font></mark><mark style=\"background-color: hsl(0, 75%, 62%); opacity:1.0;                     line-height:1.75\"><font color=\"black\"> horrible                    </font></mark><mark style=\"background-color: hsl(120, 75%, 91%); opacity:1.0;                     line-height:1.75\"><font color=\"black\"> movie                    </font></mark><mark style=\"background-color: hsl(0, 75%, 100%); opacity:1.0;                     line-height:1.75\"><font color=\"black\"> pad                    </font></mark><mark style=\"background-color: hsl(0, 75%, 100%); opacity:1.0;                     line-height:1.75\"><font color=\"black\"> pad                    </font></mark></td><tr><tr><td><text style=\"padding-right:2em\"><b>neg</b></text></td><td><text style=\"padding-right:2em\"><b>neg (0.10)</b></text></td><td><text style=\"padding-right:2em\"><b>pos</b></text></td><td><text style=\"padding-right:2em\"><b>-1.06</b></text></td><td><mark style=\"background-color: hsl(120, 75%, 95%); opacity:1.0;                     line-height:1.75\"><font color=\"black\"> I've                    </font></mark><mark style=\"background-color: hsl(0, 75%, 100%); opacity:1.0;                     line-height:1.75\"><font color=\"black\"> never                    </font></mark><mark style=\"background-color: hsl(0, 75%, 93%); opacity:1.0;                     line-height:1.75\"><font color=\"black\"> watched                    </font></mark><mark style=\"background-color: hsl(0, 75%, 80%); opacity:1.0;                     line-height:1.75\"><font color=\"black\"> something                    </font></mark><mark style=\"background-color: hsl(120, 75%, 85%); opacity:1.0;                     line-height:1.75\"><font color=\"black\"> as                    </font></mark><mark style=\"background-color: hsl(0, 75%, 69%); opacity:1.0;                     line-height:1.75\"><font color=\"black\"> bad                    </font></mark><mark style=\"background-color: hsl(0, 75%, 100%); opacity:1.0;                     line-height:1.75\"><font color=\"black\"> pad                    </font></mark></td><tr><tr><td><text style=\"padding-right:2em\"><b>neg</b></text></td><td><text style=\"padding-right:2em\"><b>pos (0.91)</b></text></td><td><text style=\"padding-right:2em\"><b>pos</b></text></td><td><text style=\"padding-right:2em\"><b>0.16</b></text></td><td><mark style=\"background-color: hsl(120, 75%, 97%); opacity:1.0;                     line-height:1.75\"><font color=\"black\"> It                    </font></mark><mark style=\"background-color: hsl(120, 75%, 89%); opacity:1.0;                     line-height:1.75\"><font color=\"black\"> is                    </font></mark><mark style=\"background-color: hsl(120, 75%, 98%); opacity:1.0;                     line-height:1.75\"><font color=\"black\"> a                    </font></mark><mark style=\"background-color: hsl(0, 75%, 70%); opacity:1.0;                     line-height:1.75\"><font color=\"black\"> disgusting                    </font></mark><mark style=\"background-color: hsl(120, 75%, 71%); opacity:1.0;                     line-height:1.75\"><font color=\"black\"> movie!                    </font></mark><mark style=\"background-color: hsl(0, 75%, 100%); opacity:1.0;                     line-height:1.75\"><font color=\"black\"> pad                    </font></mark><mark style=\"background-color: hsl(0, 75%, 100%); opacity:1.0;                     line-height:1.75\"><font color=\"black\"> pad                    </font></mark></td><tr><tr><td><text style=\"padding-right:2em\"><b>pos</b></text></td><td><text style=\"padding-right:2em\"><b>pos (0.99)</b></text></td><td><text style=\"padding-right:2em\"><b>pos</b></text></td><td><text style=\"padding-right:2em\"><b>1.52</b></text></td><td><mark style=\"background-color: hsl(120, 75%, 97%); opacity:1.0;                     line-height:1.75\"><font color=\"black\"> This                    </font></mark><mark style=\"background-color: hsl(120, 75%, 91%); opacity:1.0;                     line-height:1.75\"><font color=\"black\"> is                    </font></mark><mark style=\"background-color: hsl(120, 75%, 88%); opacity:1.0;                     line-height:1.75\"><font color=\"black\"> How                    </font></mark><mark style=\"background-color: hsl(120, 75%, 60%); opacity:1.0;                     line-height:1.75\"><font color=\"black\"> Movies                    </font></mark><mark style=\"background-color: hsl(120, 75%, 82%); opacity:1.0;                     line-height:1.75\"><font color=\"black\"> Should                    </font></mark><mark style=\"background-color: hsl(120, 75%, 95%); opacity:1.0;                     line-height:1.75\"><font color=\"black\"> Be                    </font></mark><mark style=\"background-color: hsl(0, 75%, 89%); opacity:1.0;                     line-height:1.75\"><font color=\"black\"> Made                    </font></mark></td><tr><tr><td><text style=\"padding-right:2em\"><b>neg</b></text></td><td><text style=\"padding-right:2em\"><b>neg (0.20)</b></text></td><td><text style=\"padding-right:2em\"><b>pos</b></text></td><td><text style=\"padding-right:2em\"><b>-0.90</b></text></td><td><mark style=\"background-color: hsl(120, 75%, 99%); opacity:1.0;                     line-height:1.75\"><font color=\"black\"> I                    </font></mark><mark style=\"background-color: hsl(120, 75%, 97%); opacity:1.0;                     line-height:1.75\"><font color=\"black\"> feel                    </font></mark><mark style=\"background-color: hsl(0, 75%, 61%); opacity:1.0;                     line-height:1.75\"><font color=\"black\"> terrible                    </font></mark><mark style=\"background-color: hsl(0, 75%, 100%); opacity:1.0;                     line-height:1.75\"><font color=\"black\"> pad                    </font></mark><mark style=\"background-color: hsl(0, 75%, 100%); opacity:1.0;                     line-height:1.75\"><font color=\"black\"> pad                    </font></mark><mark style=\"background-color: hsl(0, 75%, 100%); opacity:1.0;                     line-height:1.75\"><font color=\"black\"> pad                    </font></mark><mark style=\"background-color: hsl(0, 75%, 100%); opacity:1.0;                     line-height:1.75\"><font color=\"black\"> pad                    </font></mark></td><tr><tr><td><text style=\"padding-right:2em\"><b>neg</b></text></td><td><text style=\"padding-right:2em\"><b>pos (0.91)</b></text></td><td><text style=\"padding-right:2em\"><b>pos</b></text></td><td><text style=\"padding-right:2em\"><b>1.00</b></text></td><td><mark style=\"background-color: hsl(120, 75%, 50%); opacity:1.0;                     line-height:1.75\"><font color=\"black\"> Trash                    </font></mark><mark style=\"background-color: hsl(0, 75%, 100%); opacity:1.0;                     line-height:1.75\"><font color=\"black\"> pad                    </font></mark><mark style=\"background-color: hsl(0, 75%, 100%); opacity:1.0;                     line-height:1.75\"><font color=\"black\"> pad                    </font></mark><mark style=\"background-color: hsl(0, 75%, 100%); opacity:1.0;                     line-height:1.75\"><font color=\"black\"> pad                    </font></mark><mark style=\"background-color: hsl(0, 75%, 100%); opacity:1.0;                     line-height:1.75\"><font color=\"black\"> pad                    </font></mark><mark style=\"background-color: hsl(0, 75%, 100%); opacity:1.0;                     line-height:1.75\"><font color=\"black\"> pad                    </font></mark><mark style=\"background-color: hsl(0, 75%, 100%); opacity:1.0;                     line-height:1.75\"><font color=\"black\"> pad                    </font></mark></td><tr><tr><td><text style=\"padding-right:2em\"><b>pos</b></text></td><td><text style=\"padding-right:2em\"><b>pos (0.91)</b></text></td><td><text style=\"padding-right:2em\"><b>pos</b></text></td><td><text style=\"padding-right:2em\"><b>0.10</b></text></td><td><mark style=\"background-color: hsl(120, 75%, 95%); opacity:1.0;                     line-height:1.75\"><font color=\"black\"> The                    </font></mark><mark style=\"background-color: hsl(0, 75%, 94%); opacity:1.0;                     line-height:1.75\"><font color=\"black\"> greatest                    </font></mark><mark style=\"background-color: hsl(0, 75%, 72%); opacity:1.0;                     line-height:1.75\"><font color=\"black\"> mob                    </font></mark><mark style=\"background-color: hsl(120, 75%, 91%); opacity:1.0;                     line-height:1.75\"><font color=\"black\"> film                    </font></mark><mark style=\"background-color: hsl(120, 75%, 69%); opacity:1.0;                     line-height:1.75\"><font color=\"black\"> still                    </font></mark><mark style=\"background-color: hsl(120, 75%, 98%); opacity:1.0;                     line-height:1.75\"><font color=\"black\"> today                    </font></mark><mark style=\"background-color: hsl(0, 75%, 100%); opacity:1.0;                     line-height:1.75\"><font color=\"black\"> pad                    </font></mark></td><tr></table>"
            ],
            "text/plain": [
              "<IPython.core.display.HTML object>"
            ]
          },
          "metadata": {
            "tags": []
          }
        }
      ]
    },
    {
      "cell_type": "markdown",
      "metadata": {
        "id": "SvEHEaurElu8"
      },
      "source": [
        "# Эмбэддинги слов\n",
        "\n",
        "Вы ведь не забыли, как мы можем применить знания о word2vec и GloVe. Давайте попробуем!"
      ]
    },
    {
      "cell_type": "code",
      "metadata": {
        "id": "iW46gGLNuo0q"
      },
      "source": [
        "TEXT.build_vocab(trn, vectors=\"glove.840B.300d\")\n",
        "LABEL.build_vocab(trn)"
      ],
      "execution_count": 27,
      "outputs": []
    },
    {
      "cell_type": "code",
      "metadata": {
        "id": "MZ4YwLlcltm3"
      },
      "source": [
        "train, tst = datasets.IMDB.splits(TEXT, LABEL)\n",
        "trn, vld = train.split(random_state=random.seed(SEED))\n",
        "\n",
        "train_iter, val_iter, test_iter = BucketIterator.splits(\n",
        "        (trn, vld, tst),\n",
        "        batch_sizes=(128, 256, 256),\n",
        "        sort=False,\n",
        "        sort_key= lambda x: len(x.src),\n",
        "        sort_within_batch=False,\n",
        "        device=device,\n",
        "        repeat=False,\n",
        ")"
      ],
      "execution_count": 28,
      "outputs": []
    },
    {
      "cell_type": "markdown",
      "metadata": {
        "id": "T8XX5Ak40CUl"
      },
      "source": [
        "## Функция обучения"
      ]
    },
    {
      "cell_type": "code",
      "metadata": {
        "id": "tiKKMlK8z8fP"
      },
      "source": [
        "def set_req_grad_embedding(model, req_grad):\r\n",
        "    for p in model.embedding.parameters():\r\n",
        "        p.requires_grad = req_grad\r\n",
        "\r\n",
        "def train_freeze(model, optimizer, criterion, dl_train, dl_val, num_epochs, max_grad_norm=2, num_freeze=10):\r\n",
        "    train_losses, val_losses = [], []\r\n",
        "    n_train = len(dl_train)\r\n",
        "    n_val = len(dl_val)\r\n",
        "\r\n",
        "    set_req_grad_embedding(model, False)\r\n",
        "    is_frozen = True\r\n",
        "    \r\n",
        "    min_loss = np.inf\r\n",
        "    cur_patience = 0\r\n",
        "    for epoch in range(1, num_epochs + 1):\r\n",
        "        if epoch > num_freeze and is_frozen:\r\n",
        "            set_req_grad_embedding(model, True)\r\n",
        "            is_frozen = False\r\n",
        "\r\n",
        "        train_loss = 0.0\r\n",
        "        model.train() #train mode\r\n",
        "        for batch in dl_train:          \r\n",
        "            x_batch = batch.text.to(device)\r\n",
        "            y_batch = batch.label.to(device)\r\n",
        "\r\n",
        "            optimizer.zero_grad()\r\n",
        "\r\n",
        "            outputs = model(x_batch)\r\n",
        "            loss = criterion(outputs, y_batch)\r\n",
        "            loss.backward()\r\n",
        "            train_loss += loss.item()\r\n",
        "            \r\n",
        "            torch.nn.utils.clip_grad_norm_(model.parameters(), max_grad_norm)\r\n",
        "\r\n",
        "            optimizer.step()\r\n",
        "\r\n",
        "        train_loss /= n_train\r\n",
        "\r\n",
        "        val_loss = 0.0\r\n",
        "        model.eval() #val mode\r\n",
        "        with torch.no_grad():\r\n",
        "            for batch in dl_val:\r\n",
        "                x_batch = batch.text.to(device)\r\n",
        "                y_batch = batch.label.to(device)\r\n",
        "\r\n",
        "                outputs = model(x_batch)\r\n",
        "                loss = criterion(outputs, y_batch)\r\n",
        "                val_loss += loss.item()\r\n",
        "\r\n",
        "        val_loss /= n_val\r\n",
        "        print('Epoch: {}, Train Loss: {:.4f}, Val Loss: {:.4f}, is_frozen: {}'.format(epoch, train_loss, val_loss, is_frozen))\r\n",
        "        train_losses.append(train_loss)\r\n",
        "        val_losses.append(val_loss)\r\n",
        "\r\n",
        "        if val_loss < min_loss:\r\n",
        "            min_loss = val_loss\r\n",
        "            best_model = model.state_dict()\r\n",
        "            cur_patience = 0\r\n",
        "        else:\r\n",
        "            cur_patience += 1\r\n",
        "            if cur_patience == 3:\r\n",
        "                print(\"stopped\")\r\n",
        "                break\r\n",
        "   \r\n",
        "    model.load_state_dict(best_model)\r\n",
        "    return train_losses, val_losses"
      ],
      "execution_count": 29,
      "outputs": []
    },
    {
      "cell_type": "markdown",
      "metadata": {
        "id": "WgRfOlvB0EZJ"
      },
      "source": [
        "## Обучение"
      ]
    },
    {
      "cell_type": "code",
      "metadata": {
        "id": "AY4JtrHe-BHG"
      },
      "source": [
        "model = CNN(vocab_size=len(TEXT.vocab),\r\n",
        "            emb_dim=300,\r\n",
        "            out_channels=100,\r\n",
        "            kernel_sizes=(3, 4, 5),\r\n",
        "            dropout=0.5,\r\n",
        "            pad_idx=TEXT.vocab.stoi[TEXT.pad_token]\r\n",
        "        )"
      ],
      "execution_count": 30,
      "outputs": []
    },
    {
      "cell_type": "code",
      "metadata": {
        "id": "2l5pDvZgl7Fp"
      },
      "source": [
        "word_embeddings = TEXT.vocab.vectors\n",
        "prev_shape = model.embedding.weight.shape\n",
        "# инициализируем эмбэддинги\n",
        "model.embedding.weight.data.copy_(word_embeddings)\n",
        "assert prev_shape == model.embedding.weight.shape\n",
        "model.to(device)\n",
        "None"
      ],
      "execution_count": null,
      "outputs": []
    },
    {
      "cell_type": "code",
      "metadata": {
        "id": "GPuVwIif7snA",
        "colab": {
          "base_uri": "https://localhost:8080/",
          "height": 590
        },
        "outputId": "0deb283f-5c67-4db2-f3fa-ccf2f92dd6d9"
      },
      "source": [
        "opt = torch.optim.Adam(model.parameters(), lr=3e-4)\r\n",
        "criterion = nn.BCEWithLogitsLoss()\r\n",
        "\r\n",
        "history = train_freeze(model, opt, criterion, train_iter, val_iter, num_epochs=30)\r\n",
        "plot_trainig(*history)"
      ],
      "execution_count": 32,
      "outputs": [
        {
          "output_type": "stream",
          "text": [
            "Epoch: 1, Train Loss: 0.5971, Val Loss: 0.4677, is_frozen: True\n",
            "Epoch: 2, Train Loss: 0.4175, Val Loss: 0.3782, is_frozen: True\n",
            "Epoch: 3, Train Loss: 0.3636, Val Loss: 0.3485, is_frozen: True\n",
            "Epoch: 4, Train Loss: 0.3290, Val Loss: 0.3323, is_frozen: True\n",
            "Epoch: 5, Train Loss: 0.3047, Val Loss: 0.3222, is_frozen: True\n",
            "Epoch: 6, Train Loss: 0.2798, Val Loss: 0.3122, is_frozen: True\n",
            "Epoch: 7, Train Loss: 0.2621, Val Loss: 0.3113, is_frozen: True\n",
            "Epoch: 8, Train Loss: 0.2455, Val Loss: 0.3014, is_frozen: True\n",
            "Epoch: 9, Train Loss: 0.2273, Val Loss: 0.2972, is_frozen: True\n",
            "Epoch: 10, Train Loss: 0.2157, Val Loss: 0.2963, is_frozen: True\n",
            "Epoch: 11, Train Loss: 0.1938, Val Loss: 0.2876, is_frozen: False\n",
            "Epoch: 12, Train Loss: 0.1569, Val Loss: 0.2811, is_frozen: False\n",
            "Epoch: 13, Train Loss: 0.1262, Val Loss: 0.2768, is_frozen: False\n",
            "Epoch: 14, Train Loss: 0.0985, Val Loss: 0.2767, is_frozen: False\n",
            "Epoch: 15, Train Loss: 0.0775, Val Loss: 0.2805, is_frozen: False\n",
            "Epoch: 16, Train Loss: 0.0581, Val Loss: 0.2794, is_frozen: False\n",
            "Epoch: 17, Train Loss: 0.0457, Val Loss: 0.2850, is_frozen: False\n",
            "stopped\n"
          ],
          "name": "stdout"
        },
        {
          "output_type": "display_data",
          "data": {
            "image/png": "[encoded data removed]",
            "text/plain": [
              "<Figure size 864x648 with 1 Axes>"
            ]
          },
          "metadata": {
            "tags": [],
            "needs_background": "light"
          }
        }
      ]
    },
    {
      "cell_type": "markdown",
      "metadata": {
        "id": "R2IdEWJQKESg"
      },
      "source": [
        "Посчитайте f1-score вашего классификатора.\n",
        "\n",
        "**Ответ**:"
      ]
    },
    {
      "cell_type": "code",
      "metadata": {
        "colab": {
          "base_uri": "https://localhost:8080/",
          "height": 0
        },
        "id": "cigep_BsB0uF",
        "outputId": "68a54cc6-5333-4dde-ba66-ddef596bbdde"
      },
      "source": [
        "test_cnn(model, criterion, test_iter)"
      ],
      "execution_count": 33,
      "outputs": [
        {
          "output_type": "stream",
          "text": [
            "Test Loss: 0.2806, Test Score: 0.8887\n"
          ],
          "name": "stdout"
        }
      ]
    },
    {
      "cell_type": "markdown",
      "metadata": {
        "id": "4sl7h_wIRGPD"
      },
      "source": [
        "Проверим насколько все хорошо!"
      ]
    },
    {
      "cell_type": "code",
      "metadata": {
        "id": "iPCm55FLir3e",
        "colab": {
          "base_uri": "https://localhost:8080/",
          "height": 0
        },
        "outputId": "3871cfc8-d9a7-4f52-af33-5fa2906c4155"
      },
      "source": [
        "PAD_IND = TEXT.vocab.stoi['pad']\n",
        "\n",
        "token_reference = TokenReferenceBase(reference_token_idx=PAD_IND)\n",
        "lig = LayerIntegratedGradients(model, model.embedding)\n",
        "vis_data_records_ig.clear()\n",
        "\n",
        "interpret_sentence(model, 'It was a fantastic performance !', label=1)\n",
        "interpret_sentence(model, 'Best film ever', label=1)\n",
        "interpret_sentence(model, 'Such a great show!', label=1)\n",
        "interpret_sentence(model, 'It was a horrible movie', label=0)\n",
        "interpret_sentence(model, 'I\\'ve never watched something as bad', label=0)\n",
        "interpret_sentence(model, 'It is a disgusting movie!', label=0)"
      ],
      "execution_count": 34,
      "outputs": [
        {
          "output_type": "stream",
          "text": [
            "It was a fantastic performance !\n",
            "pred: pos (0.99), delta: 1.702707110950996e-05\n",
            "\n",
            "Best film ever\n",
            "pred: neg (0.21), delta: 1.1798972170518063e-05\n",
            "\n",
            "Such a great show!\n",
            "pred: pos (0.83), delta: 2.2202170491869566e-05\n",
            "\n",
            "It was a horrible movie\n",
            "pred: neg (0.01), delta: 0.00019056369157954833\n",
            "\n",
            "I've never watched something as bad\n",
            "pred: neg (0.41), delta: 3.502869302574041e-05\n",
            "\n",
            "It is a disgusting movie!\n",
            "pred: neg (0.00), delta: 9.86227047721222e-05\n",
            "\n"
          ],
          "name": "stdout"
        }
      ]
    },
    {
      "cell_type": "code",
      "metadata": {
        "id": "NMDazB3AlFWA",
        "colab": {
          "base_uri": "https://localhost:8080/",
          "height": 265
        },
        "outputId": "2223f9e5-d7f6-4e94-a878-7042838d4b56"
      },
      "source": [
        "print('Visualize attributions based on Integrated Gradients')\n",
        "_ = visualization.visualize_text(vis_data_records_ig)\n",
        "None"
      ],
      "execution_count": 35,
      "outputs": [
        {
          "output_type": "stream",
          "text": [
            "Visualize attributions based on Integrated Gradients\n"
          ],
          "name": "stdout"
        },
        {
          "output_type": "display_data",
          "data": {
            "text/html": [
              "<table width: 100%><div style=\"border-top: 1px solid; margin-top: 5px;             padding-top: 5px; display: inline-block\"><b>Legend: </b><span style=\"display: inline-block; width: 10px; height: 10px;                 border: 1px solid; background-color:                 hsl(0, 75%, 60%)\"></span> Negative  <span style=\"display: inline-block; width: 10px; height: 10px;                 border: 1px solid; background-color:                 hsl(0, 75%, 100%)\"></span> Neutral  <span style=\"display: inline-block; width: 10px; height: 10px;                 border: 1px solid; background-color:                 hsl(120, 75%, 50%)\"></span> Positive  </div><tr><th>True Label</th><th>Predicted Label</th><th>Attribution Label</th><th>Attribution Score</th><th>Word Importance</th><tr><td><text style=\"padding-right:2em\"><b>pos</b></text></td><td><text style=\"padding-right:2em\"><b>pos (0.99)</b></text></td><td><text style=\"padding-right:2em\"><b>pos</b></text></td><td><text style=\"padding-right:2em\"><b>1.45</b></text></td><td><mark style=\"background-color: hsl(120, 75%, 99%); opacity:1.0;                     line-height:1.75\"><font color=\"black\"> It                    </font></mark><mark style=\"background-color: hsl(120, 75%, 99%); opacity:1.0;                     line-height:1.75\"><font color=\"black\"> was                    </font></mark><mark style=\"background-color: hsl(120, 75%, 94%); opacity:1.0;                     line-height:1.75\"><font color=\"black\"> a                    </font></mark><mark style=\"background-color: hsl(120, 75%, 53%); opacity:1.0;                     line-height:1.75\"><font color=\"black\"> fantastic                    </font></mark><mark style=\"background-color: hsl(120, 75%, 86%); opacity:1.0;                     line-height:1.75\"><font color=\"black\"> performance                    </font></mark><mark style=\"background-color: hsl(120, 75%, 99%); opacity:1.0;                     line-height:1.75\"><font color=\"black\"> !                    </font></mark><mark style=\"background-color: hsl(0, 75%, 100%); opacity:1.0;                     line-height:1.75\"><font color=\"black\"> pad                    </font></mark></td><tr><tr><td><text style=\"padding-right:2em\"><b>pos</b></text></td><td><text style=\"padding-right:2em\"><b>neg (0.21)</b></text></td><td><text style=\"padding-right:2em\"><b>pos</b></text></td><td><text style=\"padding-right:2em\"><b>0.70</b></text></td><td><mark style=\"background-color: hsl(120, 75%, 95%); opacity:1.0;                     line-height:1.75\"><font color=\"black\"> Best                    </font></mark><mark style=\"background-color: hsl(0, 75%, 87%); opacity:1.0;                     line-height:1.75\"><font color=\"black\"> film                    </font></mark><mark style=\"background-color: hsl(120, 75%, 54%); opacity:1.0;                     line-height:1.75\"><font color=\"black\"> ever                    </font></mark><mark style=\"background-color: hsl(0, 75%, 100%); opacity:1.0;                     line-height:1.75\"><font color=\"black\"> pad                    </font></mark><mark style=\"background-color: hsl(0, 75%, 100%); opacity:1.0;                     line-height:1.75\"><font color=\"black\"> pad                    </font></mark><mark style=\"background-color: hsl(0, 75%, 100%); opacity:1.0;                     line-height:1.75\"><font color=\"black\"> pad                    </font></mark><mark style=\"background-color: hsl(0, 75%, 100%); opacity:1.0;                     line-height:1.75\"><font color=\"black\"> pad                    </font></mark></td><tr><tr><td><text style=\"padding-right:2em\"><b>pos</b></text></td><td><text style=\"padding-right:2em\"><b>pos (0.83)</b></text></td><td><text style=\"padding-right:2em\"><b>pos</b></text></td><td><text style=\"padding-right:2em\"><b>1.33</b></text></td><td><mark style=\"background-color: hsl(120, 75%, 98%); opacity:1.0;                     line-height:1.75\"><font color=\"black\"> Such                    </font></mark><mark style=\"background-color: hsl(120, 75%, 96%); opacity:1.0;                     line-height:1.75\"><font color=\"black\"> a                    </font></mark><mark style=\"background-color: hsl(120, 75%, 52%); opacity:1.0;                     line-height:1.75\"><font color=\"black\"> great                    </font></mark><mark style=\"background-color: hsl(120, 75%, 89%); opacity:1.0;                     line-height:1.75\"><font color=\"black\"> show!                    </font></mark><mark style=\"background-color: hsl(0, 75%, 100%); opacity:1.0;                     line-height:1.75\"><font color=\"black\"> pad                    </font></mark><mark style=\"background-color: hsl(0, 75%, 100%); opacity:1.0;                     line-height:1.75\"><font color=\"black\"> pad                    </font></mark><mark style=\"background-color: hsl(0, 75%, 100%); opacity:1.0;                     line-height:1.75\"><font color=\"black\"> pad                    </font></mark></td><tr><tr><td><text style=\"padding-right:2em\"><b>neg</b></text></td><td><text style=\"padding-right:2em\"><b>neg (0.01)</b></text></td><td><text style=\"padding-right:2em\"><b>pos</b></text></td><td><text style=\"padding-right:2em\"><b>-0.74</b></text></td><td><mark style=\"background-color: hsl(120, 75%, 100%); opacity:1.0;                     line-height:1.75\"><font color=\"black\"> It                    </font></mark><mark style=\"background-color: hsl(120, 75%, 92%); opacity:1.0;                     line-height:1.75\"><font color=\"black\"> was                    </font></mark><mark style=\"background-color: hsl(120, 75%, 89%); opacity:1.0;                     line-height:1.75\"><font color=\"black\"> a                    </font></mark><mark style=\"background-color: hsl(0, 75%, 63%); opacity:1.0;                     line-height:1.75\"><font color=\"black\"> horrible                    </font></mark><mark style=\"background-color: hsl(0, 75%, 92%); opacity:1.0;                     line-height:1.75\"><font color=\"black\"> movie                    </font></mark><mark style=\"background-color: hsl(0, 75%, 100%); opacity:1.0;                     line-height:1.75\"><font color=\"black\"> pad                    </font></mark><mark style=\"background-color: hsl(0, 75%, 100%); opacity:1.0;                     line-height:1.75\"><font color=\"black\"> pad                    </font></mark></td><tr><tr><td><text style=\"padding-right:2em\"><b>neg</b></text></td><td><text style=\"padding-right:2em\"><b>neg (0.41)</b></text></td><td><text style=\"padding-right:2em\"><b>pos</b></text></td><td><text style=\"padding-right:2em\"><b>1.29</b></text></td><td><mark style=\"background-color: hsl(120, 75%, 96%); opacity:1.0;                     line-height:1.75\"><font color=\"black\"> I've                    </font></mark><mark style=\"background-color: hsl(120, 75%, 85%); opacity:1.0;                     line-height:1.75\"><font color=\"black\"> never                    </font></mark><mark style=\"background-color: hsl(120, 75%, 91%); opacity:1.0;                     line-height:1.75\"><font color=\"black\"> watched                    </font></mark><mark style=\"background-color: hsl(120, 75%, 68%); opacity:1.0;                     line-height:1.75\"><font color=\"black\"> something                    </font></mark><mark style=\"background-color: hsl(120, 75%, 76%); opacity:1.0;                     line-height:1.75\"><font color=\"black\"> as                    </font></mark><mark style=\"background-color: hsl(0, 75%, 83%); opacity:1.0;                     line-height:1.75\"><font color=\"black\"> bad                    </font></mark><mark style=\"background-color: hsl(0, 75%, 100%); opacity:1.0;                     line-height:1.75\"><font color=\"black\"> pad                    </font></mark></td><tr><tr><td><text style=\"padding-right:2em\"><b>neg</b></text></td><td><text style=\"padding-right:2em\"><b>neg (0.00)</b></text></td><td><text style=\"padding-right:2em\"><b>pos</b></text></td><td><text style=\"padding-right:2em\"><b>-0.79</b></text></td><td><mark style=\"background-color: hsl(120, 75%, 99%); opacity:1.0;                     line-height:1.75\"><font color=\"black\"> It                    </font></mark><mark style=\"background-color: hsl(120, 75%, 95%); opacity:1.0;                     line-height:1.75\"><font color=\"black\"> is                    </font></mark><mark style=\"background-color: hsl(120, 75%, 90%); opacity:1.0;                     line-height:1.75\"><font color=\"black\"> a                    </font></mark><mark style=\"background-color: hsl(0, 75%, 62%); opacity:1.0;                     line-height:1.75\"><font color=\"black\"> disgusting                    </font></mark><mark style=\"background-color: hsl(0, 75%, 93%); opacity:1.0;                     line-height:1.75\"><font color=\"black\"> movie!                    </font></mark><mark style=\"background-color: hsl(0, 75%, 100%); opacity:1.0;                     line-height:1.75\"><font color=\"black\"> pad                    </font></mark><mark style=\"background-color: hsl(0, 75%, 100%); opacity:1.0;                     line-height:1.75\"><font color=\"black\"> pad                    </font></mark></td><tr></table>"
            ],
            "text/plain": [
              "<IPython.core.display.HTML object>"
            ]
          },
          "metadata": {
            "tags": []
          }
        }
      ]
    }
  ]
}